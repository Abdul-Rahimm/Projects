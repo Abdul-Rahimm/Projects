{
 "cells": [
  {
   "cell_type": "markdown",
   "metadata": {},
   "source": [
    "## Bi partitite Graph"
   ]
  },
  {
   "cell_type": "code",
   "execution_count": 2,
   "metadata": {},
   "outputs": [
    {
     "ename": "SyntaxError",
     "evalue": "invalid syntax (1313832005.py, line 51)",
     "output_type": "error",
     "traceback": [
      "\u001b[1;36m  File \u001b[1;32m\"C:\\Users\\Admin\\AppData\\Local\\Temp\\ipykernel_13928\\1313832005.py\"\u001b[1;36m, line \u001b[1;32m51\u001b[0m\n\u001b[1;33m    if(source not in nodes1 and source not in nodes2) or (destination not in nodes2 and destination not in nodes1)\u001b[0m\n\u001b[1;37m                                                                                                                  ^\u001b[0m\n\u001b[1;31mSyntaxError\u001b[0m\u001b[1;31m:\u001b[0m invalid syntax\n"
     ]
    }
   ],
   "source": [
    "import networkx as nx\n",
    "import matplotlib.pyplot as plt\n",
    "from IPython.display import clear_output\n",
    "import time\n",
    "\n",
    "# Function to create a bipartite graph\n",
    "def create_bipartite_graph(nodes1, nodes2, edges):\n",
    "    G = nx.Graph()\n",
    "    G.add_nodes_from(nodes1, bipartite=0)\n",
    "    G.add_nodes_from(nodes2, bipartite=1)\n",
    "    G.add_edges_from(edges)\n",
    "    return G\n",
    "\n",
    "# Take user input for nodes1\n",
    "num_nodes1 = int(input(\"Enter the number of nodes in nodes1: \"))\n",
    "nodes1 = [input(f\"Enter node {i + 1} for nodes1: \") for i in range(num_nodes1)]\n",
    "\n",
    "# Take user input for nodes2\n",
    "num_nodes2 = int(input(\"Enter the number of nodes in nodes2: \"))\n",
    "nodes2 = [input(f\"Enter node {i + 1} for nodes2: \") for i in range(num_nodes2)]\n",
    "\n",
    "# Take user input for the number of edges\n",
    "num_edges = int(input(\"Enter the number of edges: \"))\n",
    "edges = []\n",
    "\n",
    "# Create an initial graph\n",
    "bipartite_graph = create_bipartite_graph(nodes1, nodes2, [])\n",
    "\n",
    "# Specify node colors\n",
    "node_colors = ['red' if node in nodes1 else 'yellow' for node in bipartite_graph.nodes]\n",
    "\n",
    "# Specify node positions\n",
    "pos = {}\n",
    "pos.update((node, (1, index)) for index, node in enumerate(nodes1))\n",
    "pos.update((node, (2, index)) for index, node in enumerate(nodes2))\n",
    "\n",
    "# Plot the initial graph\n",
    "nx.draw(bipartite_graph, pos, with_labels=True, font_weight='bold', node_color=node_colors, font_color='black')\n",
    "plt.pause(0.001)  # Add a small pause to update the plot\n",
    "\n",
    "# Take user input for edges dynamically\n",
    "for _ in range(num_edges):\n",
    "    \n",
    "        source = input(\"Enter source for the edge: \")\n",
    "        destination = input(f\"Enter destination for the edge from {source}: \")\n",
    "\n",
    "        # Check if source and destination belong to the same set\n",
    "        if (source in nodes1 and destination in nodes1) or (source in nodes2 and destination in nodes2):\n",
    "            print(\"Invalid edge. Source and destination must belong to different sets.\")\n",
    "            continue\n",
    "        if(source not in nodes1 and source not in nodes2) or (destination not in nodes2 and destination not in nodes1)\n",
    "            print(\"Enter valid nodes\")\n",
    "            continue\n",
    "\n",
    "        edges.append((source, destination))\n",
    "\n",
    "        # Clear the initial plot\n",
    "        clear_output(wait=True)\n",
    "        bipartite_graph = create_bipartite_graph(nodes1, nodes2, edges)\n",
    "        node_colors = ['red' if node in nodes1 else 'yellow' for node in bipartite_graph.nodes]\n",
    "        nx.draw(bipartite_graph, pos, with_labels=True, font_weight='bold', node_color=node_colors, font_color='black')\n",
    "        plt.pause(0.001)  # Add a small pause to update the plot\n",
    "\n",
    "plt.show()\n"
   ]
  }
 ],
 "metadata": {
  "kernelspec": {
   "display_name": "base",
   "language": "python",
   "name": "python3"
  },
  "language_info": {
   "codemirror_mode": {
    "name": "ipython",
    "version": 3
   },
   "file_extension": ".py",
   "mimetype": "text/x-python",
   "name": "python",
   "nbconvert_exporter": "python",
   "pygments_lexer": "ipython3",
   "version": "3.9.13"
  }
 },
 "nbformat": 4,
 "nbformat_minor": 2
}
